{
 "cells": [
  {
   "cell_type": "code",
   "execution_count": 1,
   "metadata": {},
   "outputs": [],
   "source": [
    "import os\n",
    "import pandas\n",
    "import numpy\n",
    "import re"
   ]
  },
  {
   "cell_type": "code",
   "execution_count": 2,
   "metadata": {},
   "outputs": [
    {
     "name": "stdout",
     "output_type": "stream",
     "text": [
      "['/Users/delin/MORE/week_1/hyperTuning/2048_0.0001_Adam.xlsx', '/Users/delin/MORE/week_1/hyperTuning/1024_0.01_Adam.xlsx', '/Users/delin/MORE/week_1/hyperTuning/16_0.0001_SGD.xlsx', '/Users/delin/MORE/week_1/hyperTuning/512_0.0001_Adam.xlsx', '/Users/delin/MORE/week_1/hyperTuning/128_0.01_Adam.xlsx', '/Users/delin/MORE/week_1/hyperTuning/64_0.0001_SGD.xlsx', '/Users/delin/MORE/week_1/hyperTuning/HyperparameterTuning.xlsx', '/Users/delin/MORE/week_1/hyperTuning/2048_0.001_SGD.xlsx', '/Users/delin/MORE/week_1/hyperTuning/16_0.0001_Adam.xlsx', '/Users/delin/MORE/week_1/hyperTuning/128_0.01_SGD.xlsx', '/Users/delin/MORE/week_1/hyperTuning/1024_0.001_SGD.xlsx', '/Users/delin/MORE/week_1/hyperTuning/16_0.001_Adam.xlsx', '/Users/delin/MORE/week_1/hyperTuning/64_0.01_SGD.xlsx', '/Users/delin/MORE/week_1/hyperTuning/2048_0.01_Adam.xlsx', '/Users/delin/MORE/week_1/hyperTuning/128_0.001_SGD.xlsx', '/Users/delin/MORE/week_1/hyperTuning/64_0.001_Adam.xlsx', '/Users/delin/MORE/week_1/hyperTuning/64_0.0001_Adam.xlsx', '/Users/delin/MORE/week_1/hyperTuning/2048_0.001_Adam.xlsx', '/Users/delin/MORE/week_1/hyperTuning/1024_0.0001_Adam.xlsx', '/Users/delin/MORE/week_1/hyperTuning/512_0.0001_SGD.xlsx', '/Users/delin/MORE/week_1/hyperTuning/128_0.0001_SGD.xlsx', '/Users/delin/MORE/week_1/hyperTuning/512_0.001_SGD.xlsx', '/Users/delin/MORE/week_1/hyperTuning/1024_0.01_SGD.xlsx', '/Users/delin/MORE/week_1/hyperTuning/16_0.01_SGD.xlsx', '/Users/delin/MORE/week_1/hyperTuning/1024_0.001_Adam.xlsx', '/Users/delin/MORE/week_1/hyperTuning/16_0.01_Adam.xlsx', '/Users/delin/MORE/week_1/hyperTuning/64_0.001_SGD.xlsx', '/Users/delin/MORE/week_1/hyperTuning/128_0.0001_Adam.xlsx', '/Users/delin/MORE/week_1/hyperTuning/512_0.001_Adam.xlsx', '/Users/delin/MORE/week_1/hyperTuning/128_0.001_Adam.xlsx', '/Users/delin/MORE/week_1/hyperTuning/512_0.01_Adam.xlsx', '/Users/delin/MORE/week_1/hyperTuning/2048_0.01_SGD.xlsx', '/Users/delin/MORE/week_1/hyperTuning/2048_0.0001_SGD.xlsx', '/Users/delin/MORE/week_1/hyperTuning/64_0.01_Adam.xlsx', '/Users/delin/MORE/week_1/hyperTuning/1024_0.0001_SGD.xlsx', '/Users/delin/MORE/week_1/hyperTuning/512_0.01_SGD.xlsx', '/Users/delin/MORE/week_1/hyperTuning/16_0.001_SGD.xlsx']\n"
     ]
    }
   ],
   "source": [
    "current_path = os.getcwd()\n",
    "sheets_path = os.path.join(current_path,\"hyperTuning\")\n",
    "pattern = r'.*\\.xlsx$'\n",
    "regex = re.compile(pattern)\n",
    "path_of_all_spreadsheets = []\n",
    "for root,dirs,files in os.walk(sheets_path):\n",
    "    for file in files:\n",
    "        if regex.match(file):\n",
    "            path_of_all_spreadsheets.append(os.path.join(root,file))"
   ]
  },
  {
   "cell_type": "code",
   "execution_count": 3,
   "metadata": {},
   "outputs": [],
   "source": [
    "# file = pandas.read_excel(path_of_all_spreadsheets[0])\n",
    "# last_50_data = file.tail(50)\n",
    "# last_50_data"
   ]
  }
 ],
 "metadata": {
  "kernelspec": {
   "display_name": "base",
   "language": "python",
   "name": "python3"
  },
  "language_info": {
   "codemirror_mode": {
    "name": "ipython",
    "version": 3
   },
   "file_extension": ".py",
   "mimetype": "text/x-python",
   "name": "python",
   "nbconvert_exporter": "python",
   "pygments_lexer": "ipython3",
   "version": "3.11.5"
  }
 },
 "nbformat": 4,
 "nbformat_minor": 2
}
